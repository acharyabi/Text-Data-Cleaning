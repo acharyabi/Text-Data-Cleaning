{
 "cells": [
  {
   "cell_type": "code",
   "execution_count": null,
   "metadata": {},
   "outputs": [],
   "source": [
    "#####Cleaning DataSets, removal of enlish text and unnecessary characters####"
   ]
  },
  {
   "cell_type": "code",
   "execution_count": null,
   "metadata": {},
   "outputs": [],
   "source": [
    "# !pip install pandas\n",
    "# !pip install collections\n",
    "# #Install Necessary Dependencies"
   ]
  },
  {
   "cell_type": "code",
   "execution_count": null,
   "metadata": {},
   "outputs": [],
   "source": [
    "import pandas as pd"
   ]
  },
  {
   "cell_type": "code",
   "execution_count": null,
   "metadata": {},
   "outputs": [],
   "source": [
    "pd.set_option('display.max_colwidth',None)"
   ]
  },
  {
   "cell_type": "code",
   "execution_count": null,
   "metadata": {},
   "outputs": [],
   "source": [
    "import collections\n",
    "from collections import Counter"
   ]
  },
  {
   "cell_type": "code",
   "execution_count": null,
   "metadata": {},
   "outputs": [],
   "source": [
    "#Read Dataset Into a Dataframe\n",
    "df1 = pd.read_excel('@dataset') #Provide Dataset Path in @dataset , .xlsx format."
   ]
  },
  {
   "cell_type": "code",
   "execution_count": null,
   "metadata": {},
   "outputs": [],
   "source": [
    "#Viewing Dataset Head\n",
    "df1.head()"
   ]
  },
  {
   "cell_type": "code",
   "execution_count": null,
   "metadata": {},
   "outputs": [],
   "source": [
    "#Filtering Column On The Basis Of Metrics\n",
    "#Enter The Range of Data You Need To Filter\n",
    "r1= 0.8 \n",
    "r2=0.95\n",
    "#Enter Column Name in @metrics\n",
    "c3='@metrics'   \n",
    "df1 = df1.loc[(df1[c3]  >= r1) & (df1[c3]  <= r2)]\n",
    "df1.tail(10)"
   ]
  },
  {
   "cell_type": "code",
   "execution_count": null,
   "metadata": {},
   "outputs": [],
   "source": [
    "#Create A Copy DataFrame\n",
    "df2 = df1.copy()\n",
    "\n",
    "df2.head()"
   ]
  },
  {
   "cell_type": "code",
   "execution_count": null,
   "metadata": {},
   "outputs": [],
   "source": [
    "###\n",
    "c1='वाक्य १' #Enter Your One Columns Remove If You Don't Need Two Colums\n",
    "c2='वाक्य २'\n",
    "#Filtering Data Which Has Certain True Or False Function\n",
    "df2['@function'] = (df2[c1] == df2[c2]).astype(int)\n",
    "df2=df2[df2.@function !=1]\n",
    "df2 =df2.drop(['@function'],axis=1)\n",
    "df2.head()"
   ]
  },
  {
   "cell_type": "code",
   "execution_count": null,
   "metadata": {},
   "outputs": [],
   "source": [
    "#Removing Special Characters\n",
    "import string\n",
    "import re\n",
    "def processText(text):\n",
    "    #text= re.sub(\"[A-Za-z]\",'',str(text))  #This can be used to English clean characters from individual strings.\n",
    "    #text = re.sub(\"/[a-zA-Z0-9]+/\", '',text)\n",
    "    text = re.sub(\"[+-/#*%&@.$'():;><\\!|_•=]\",'',str(text))\n",
    "    text = text.lower()\n",
    "    #text = re.sub('((www.[^s]+)|(https?://[^s]+))','',str(text)) #CLEANS HYPERLINKS\n",
    "    text  = re.sub(\"http\\S*\\s\", \"\", str(text))\n",
    "    # text  = re.sub(\"\\u200d\", \"\", str(text)) #CHECK DATAFRAME.VALUES FOR THIS KIND OF ERRORS\n",
    "    # text  = re.sub(\"\\u202f\", \"\", str(text))\n",
    "    text  = re.sub(\"\\n\", \"\", str(text))\n",
    "    return text"
   ]
  },
  {
   "cell_type": "code",
   "execution_count": null,
   "metadata": {},
   "outputs": [],
   "source": [
    "#Defining Columns We Manipulate\n",
    "def count_length():\n",
    "    df2['word_count'] = df2[c1].str.split().str.len()\n",
    "count_length()\n",
    "df2 =    df2[df2[c1].str.split().str.len().ge(4) & df2[c1].str.split().str.len().le(25) & df2[c2].str.split().str.len().ge(4) & df2[c2].str.split().str.len().le(25)]\n",
    "df2 =    df2.reset_index(drop=True)"
   ]
  },
  {
   "cell_type": "code",
   "execution_count": null,
   "metadata": {},
   "outputs": [],
   "source": [
    "#Updating Column\n",
    "for i in range(len(df2)):               \n",
    "    df2.loc[i, c1] = processText(df2[c1][i])\n",
    "    df2.loc[i, c2] = processText(df2[c2][i])"
   ]
  },
  {
   "cell_type": "code",
   "execution_count": null,
   "metadata": {},
   "outputs": [],
   "source": [
    "#Removing Rows With English Characters And Numerical Values\n",
    "import unicodedata\n",
    "df2 =   df2[~df2[c1].apply(lambda x: unicodedata.normalize('NFKD', x)).str.contains(\"[a-zA-Z]\")]\n",
    "df2 =   df2[~df2[c2].apply(lambda x: unicodedata.normalize('NFKD', x)).str.contains(\"[a-zA-Z]\")]\n",
    "df2 =   df2[~df2[c1].str.contains('\\d+')]\n",
    "df2 =   df2[~df2[c2].str.contains('\\d+')]"
   ]
  },
  {
   "cell_type": "code",
   "execution_count": null,
   "metadata": {},
   "outputs": [],
   "source": [
    "#Removing Special RegeX Characters like [] and \"\"\n",
    "df2[c1] = df2[c1].str.replace(r'[][]+', '', regex=True) \n",
    "df2[c2] = df2[c2].str.replace(r'[][]+', '', regex=True)"
   ]
  },
  {
   "cell_type": "code",
   "execution_count": null,
   "metadata": {},
   "outputs": [],
   "source": [
    "#Removing On Basis of Word_Count After Filtering, Here Its 4 to 24\n",
    "df2 =   df2[df2[c1].str.split().str.len().ge(4) & df2[c1].str.split().str.len().le(25) & df2[c2].str.split().str.len().ge(4) & df2[c2].str.split().str.len().le(25)]\n",
    "df2 =   df2.reset_index(drop=True)\n",
    "df2 =   df2.drop(['word_count'],axis=1)\n",
    "df2 =   df2.drop([c3],axis=1)   #Removing Metrics Column\n",
    "df2.tail(10)"
   ]
  },
  {
   "cell_type": "code",
   "execution_count": null,
   "metadata": {},
   "outputs": [],
   "source": [
    "#Exporting To Excel\n",
    "df2 =    df2.reset_index(drop=True)\n",
    "df2.to_excel('@output directory')"
   ]
  }
 ],
 "metadata": {
  "kernelspec": {
   "display_name": "Python 3",
   "language": "python",
   "name": "python3"
  },
  "language_info": {
   "codemirror_mode": {
    "name": "ipython",
    "version": 3
   },
   "file_extension": ".py",
   "mimetype": "text/x-python",
   "name": "python",
   "nbconvert_exporter": "python",
   "pygments_lexer": "ipython3",
   "version": "3.11.1"
  },
  "orig_nbformat": 4,
  "vscode": {
   "interpreter": {
    "hash": "aee8b7b246df8f9039afb4144a1f6fd8d2ca17a180786b69acc140d282b71a49"
   }
  }
 },
 "nbformat": 4,
 "nbformat_minor": 2
}
